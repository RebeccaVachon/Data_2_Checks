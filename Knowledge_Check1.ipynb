{
 "cells": [
  {
   "cell_type": "markdown",
   "metadata": {},
   "source": [
    "### Pull in data from an API. \n",
    "Here's a list of public APIs that don't require Auth keys, though if you have another API you want to use feel free: https://apipheny.io/free-api/"
   ]
  },
  {
   "cell_type": "code",
   "execution_count": 27,
   "metadata": {},
   "outputs": [],
   "source": [
    "import requests\n",
    "import json\n",
    "import pandas as pd"
   ]
  },
  {
   "cell_type": "code",
   "execution_count": 29,
   "metadata": {},
   "outputs": [
    {
     "data": {
      "text/html": [
       "<div>\n",
       "<style scoped>\n",
       "    .dataframe tbody tr th:only-of-type {\n",
       "        vertical-align: middle;\n",
       "    }\n",
       "\n",
       "    .dataframe tbody tr th {\n",
       "        vertical-align: top;\n",
       "    }\n",
       "\n",
       "    .dataframe thead th {\n",
       "        text-align: right;\n",
       "    }\n",
       "</style>\n",
       "<table border=\"1\" class=\"dataframe\">\n",
       "  <thead>\n",
       "    <tr style=\"text-align: right;\">\n",
       "      <th></th>\n",
       "      <th>name</th>\n",
       "      <th>latin_name</th>\n",
       "      <th>animal_type</th>\n",
       "      <th>active_time</th>\n",
       "      <th>length_min</th>\n",
       "      <th>length_max</th>\n",
       "      <th>weight_min</th>\n",
       "      <th>weight_max</th>\n",
       "      <th>lifespan</th>\n",
       "      <th>habitat</th>\n",
       "      <th>diet</th>\n",
       "      <th>geo_range</th>\n",
       "      <th>image_link</th>\n",
       "      <th>id</th>\n",
       "    </tr>\n",
       "  </thead>\n",
       "  <tbody>\n",
       "    <tr>\n",
       "      <th>0</th>\n",
       "      <td>Galapagos Tortoise</td>\n",
       "      <td>Geochelone nigra microphyes</td>\n",
       "      <td>Reptile</td>\n",
       "      <td>Diurnal</td>\n",
       "      <td>5</td>\n",
       "      <td>6</td>\n",
       "      <td>300</td>\n",
       "      <td>550</td>\n",
       "      <td>100</td>\n",
       "      <td>Dry grasslands</td>\n",
       "      <td>Cactus, fruit, flowers, leaves, and grasses</td>\n",
       "      <td>Galapagos Islands</td>\n",
       "      <td>https://upload.wikimedia.org/wikipedia/commons...</td>\n",
       "      <td>74</td>\n",
       "    </tr>\n",
       "    <tr>\n",
       "      <th>1</th>\n",
       "      <td>Cheetah</td>\n",
       "      <td>Acinonyx jubatus</td>\n",
       "      <td>Mammal</td>\n",
       "      <td>Nocturnal</td>\n",
       "      <td>2.3</td>\n",
       "      <td>2.6</td>\n",
       "      <td>65</td>\n",
       "      <td>120</td>\n",
       "      <td>11</td>\n",
       "      <td>Savannah and dry forest</td>\n",
       "      <td>Small antelope, warthogs, hares, and game birds</td>\n",
       "      <td>Africa and Western Asia</td>\n",
       "      <td>https://upload.wikimedia.org/wikipedia/commons...</td>\n",
       "      <td>51</td>\n",
       "    </tr>\n",
       "    <tr>\n",
       "      <th>2</th>\n",
       "      <td>Verreaux's Eagle Owl</td>\n",
       "      <td>Bubo lacteus</td>\n",
       "      <td>Bird</td>\n",
       "      <td>Nocturnal</td>\n",
       "      <td>1.75</td>\n",
       "      <td>2.17</td>\n",
       "      <td>3.56</td>\n",
       "      <td>4.41</td>\n",
       "      <td>30</td>\n",
       "      <td>Dry and tropical areas, acacia trees, woodland...</td>\n",
       "      <td>Medium-sized mammals and some larger birds</td>\n",
       "      <td>Central to southern Africa</td>\n",
       "      <td>https://upload.wikimedia.org/wikipedia/commons...</td>\n",
       "      <td>181</td>\n",
       "    </tr>\n",
       "    <tr>\n",
       "      <th>3</th>\n",
       "      <td>Raggiana Bird-of-paradise</td>\n",
       "      <td>Paradisaea raggiana</td>\n",
       "      <td>Bird</td>\n",
       "      <td>Diurnal</td>\n",
       "      <td>0.9</td>\n",
       "      <td>1.1</td>\n",
       "      <td>0.44</td>\n",
       "      <td>0.75</td>\n",
       "      <td>8</td>\n",
       "      <td>Forest</td>\n",
       "      <td>Fruit, berries, insects, frogs, and lizards</td>\n",
       "      <td>New Guinea</td>\n",
       "      <td>https://upload.wikimedia.org/wikipedia/commons...</td>\n",
       "      <td>142</td>\n",
       "    </tr>\n",
       "    <tr>\n",
       "      <th>4</th>\n",
       "      <td>Ostrich</td>\n",
       "      <td>Struthio camelus</td>\n",
       "      <td>Bird</td>\n",
       "      <td>Diurnal</td>\n",
       "      <td>6.9</td>\n",
       "      <td>9.2</td>\n",
       "      <td>198</td>\n",
       "      <td>287</td>\n",
       "      <td>10</td>\n",
       "      <td>Savannah, shrubland and desert</td>\n",
       "      <td>Seeds, leaves, fruit; some insects and carrion</td>\n",
       "      <td>Central and Southern Africa</td>\n",
       "      <td>https://upload.wikimedia.org/wikipedia/commons...</td>\n",
       "      <td>130</td>\n",
       "    </tr>\n",
       "  </tbody>\n",
       "</table>\n",
       "</div>"
      ],
      "text/plain": [
       "                        name                   latin_name animal_type  \\\n",
       "0         Galapagos Tortoise  Geochelone nigra microphyes     Reptile   \n",
       "1                    Cheetah             Acinonyx jubatus      Mammal   \n",
       "2       Verreaux's Eagle Owl                 Bubo lacteus        Bird   \n",
       "3  Raggiana Bird-of-paradise          Paradisaea raggiana        Bird   \n",
       "4                    Ostrich             Struthio camelus        Bird   \n",
       "\n",
       "  active_time length_min length_max weight_min weight_max lifespan  \\\n",
       "0     Diurnal          5          6        300        550      100   \n",
       "1   Nocturnal        2.3        2.6         65        120       11   \n",
       "2   Nocturnal       1.75       2.17       3.56       4.41       30   \n",
       "3     Diurnal        0.9        1.1       0.44       0.75        8   \n",
       "4     Diurnal        6.9        9.2        198        287       10   \n",
       "\n",
       "                                             habitat  \\\n",
       "0                                     Dry grasslands   \n",
       "1                            Savannah and dry forest   \n",
       "2  Dry and tropical areas, acacia trees, woodland...   \n",
       "3                                             Forest   \n",
       "4                     Savannah, shrubland and desert   \n",
       "\n",
       "                                              diet  \\\n",
       "0      Cactus, fruit, flowers, leaves, and grasses   \n",
       "1  Small antelope, warthogs, hares, and game birds   \n",
       "2       Medium-sized mammals and some larger birds   \n",
       "3      Fruit, berries, insects, frogs, and lizards   \n",
       "4   Seeds, leaves, fruit; some insects and carrion   \n",
       "\n",
       "                     geo_range  \\\n",
       "0            Galapagos Islands   \n",
       "1      Africa and Western Asia   \n",
       "2  Central to southern Africa    \n",
       "3                   New Guinea   \n",
       "4  Central and Southern Africa   \n",
       "\n",
       "                                          image_link   id  \n",
       "0  https://upload.wikimedia.org/wikipedia/commons...   74  \n",
       "1  https://upload.wikimedia.org/wikipedia/commons...   51  \n",
       "2  https://upload.wikimedia.org/wikipedia/commons...  181  \n",
       "3  https://upload.wikimedia.org/wikipedia/commons...  142  \n",
       "4  https://upload.wikimedia.org/wikipedia/commons...  130  "
      ]
     },
     "execution_count": 29,
     "metadata": {},
     "output_type": "execute_result"
    }
   ],
   "source": [
    "r = requests.get('https://zoo-animal-api.herokuapp.com/animals/rand/10')\n",
    "data = r.json()\n",
    "df = pd.DataFrame(data=data)\n",
    "df.head()\n"
   ]
  },
  {
   "cell_type": "markdown",
   "metadata": {},
   "source": [
    "### Find and print TWO descriptive statistics about your data. \n",
    "This can be absolutely anything, from the mean() or sum() of a column to the number of different categories, to the number of null values in a column. We just want to see two pieces of information."
   ]
  },
  {
   "cell_type": "code",
   "execution_count": null,
   "metadata": {},
   "outputs": [],
   "source": []
  },
  {
   "cell_type": "markdown",
   "metadata": {},
   "source": [
    "### Write a query in Pandas to select a particular set of your data. \n",
    "You can use a mask or with .query(), but we want you to pull out a subset based on any parameter you like. This could be \"show me every row where HTTPS=False\" or anything else."
   ]
  },
  {
   "cell_type": "markdown",
   "metadata": {},
   "source": [
    " ### Select and print the SECOND AND THIRD columns of your data frame."
   ]
  },
  {
   "cell_type": "markdown",
   "metadata": {},
   "source": [
    "### Select and print the FIRST 4 rows of you data frame."
   ]
  }
 ],
 "metadata": {
  "kernelspec": {
   "display_name": "Python 3.10.4",
   "language": "python",
   "name": "python3"
  },
  "language_info": {
   "codemirror_mode": {
    "name": "ipython",
    "version": 3
   },
   "file_extension": ".py",
   "mimetype": "text/x-python",
   "name": "python",
   "nbconvert_exporter": "python",
   "pygments_lexer": "ipython3",
   "version": "3.10.4"
  },
  "orig_nbformat": 4,
  "vscode": {
   "interpreter": {
    "hash": "55fd3377b2c226b56655f30a93080e61f067731657dac151cf91d1c28aa2a5f9"
   }
  }
 },
 "nbformat": 4,
 "nbformat_minor": 2
}
